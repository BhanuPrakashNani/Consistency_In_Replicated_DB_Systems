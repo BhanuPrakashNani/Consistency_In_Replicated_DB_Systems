{
 "cells": [
  {
   "cell_type": "code",
   "execution_count": 159,
   "metadata": {},
   "outputs": [],
   "source": [
    "list1 = open(\"Writers.log\").readlines()\n"
   ]
  },
  {
   "cell_type": "code",
   "execution_count": 160,
   "metadata": {},
   "outputs": [
    {
     "name": "stdout",
     "output_type": "stream",
     "text": [
      "['P2: Entry Read id: 2\\n', 'P2: Exit Read id: 2 Percent: 0 Clock: 0\\n', 'P5: Entry Read id: 0\\n', 'P5: Exit Read id: 0 Percent: 0 Clock: 0\\n', 'P2: Entry Read id: 5\\n', 'P2: Exit Read id: 5 Percent: 0 Clock: 0\\n', 'P4: Synch start 0\\n', 'P3: Synch start 0\\n', 'P4: Entry Write id: 0 Percent: 1  Process 3\\n', 'P3: Entry Write id: 0 Percent: 1  Process 4\\n', 'P4: Exit Write id: 0 Percent: 1 Clock: 0\\n', 'UPdate from Process 3 for id: 0 percent: 1\\n', 'P3: Exit Write id: 0 Percent: 1 Clock: 0\\n', 'UPdate from Process 4 for id: 0 percent: 1\\n', 'P6: Synch start 0\\n', 'P2: Synch start 0\\n', 'P4: Entry Write id: 0 Percent: 1  Process 4\\n', 'P4: Exit Write id: 0 Percent: 1 Clock: 0\\n', 'UPdate from Process 4 for id: 0 percent: 1\\n', 'P4: Synch end 0\\n', 'P3: Entry Write id: 0 Percent: 1  Process 3\\n', 'P3: Exit Write id: 0 Percent: 1 Clock: 0\\n', 'UPdate from Process 3 for id: 0 percent: 1\\n', 'P3: Synch end 0\\n', 'P6: Entry Write id: 0 Percent: 1  Process 3\\n', 'P2: Entry Write id: 0 Percent: 1  Process 3\\n', 'P2: Exit Write id: 0 Percent: 1 Clock: 0\\n', 'P6: Exit Write id: 0 Percent: 1 Clock: 0\\n', 'UPdate from Process 3 for id: 0 percent: 1\\n', 'UPdate from Process 3 for id: 0 percent: 1\\n', 'P2: Entry Write id: 0 Percent: 1  Process 4\\n', 'P6: Entry Write id: 0 Percent: 1  Process 4\\n', 'P2: Exit Write id: 0 Percent: 1 Clock: 0\\n', 'UPdate from Process 4 for id: 0 percent: 1\\n', 'P2: Synch end 0\\n', 'P6: Exit Write id: 0 Percent: 1 Clock: 0\\n', 'UPdate from Process 4 for id: 0 percent: 1\\n', 'P6: Synch end 0\\n', 'P5: Synch start 0\\n', 'P5: Entry Write id: 0 Percent: 1  Process 3\\n', 'P5: Exit Write id: 0 Percent: 1 Clock: 0\\n', 'UPdate from Process 3 for id: 0 percent: 1\\n', 'P5: Entry Write id: 0 Percent: 1  Process 4\\n', 'P5: Exit Write id: 0 Percent: 1 Clock: 0\\n', 'UPdate from Process 4 for id: 0 percent: 1\\n', 'P5: Synch end 0\\n', 'P4: Synch start 0\\n', 'P4: Entry Write id: 0 Percent: 1  Process 6\\n', 'P4: Exit Write id: 0 Percent: 1 Clock: 0\\n', 'UPdate from Process 6 for id: 0 percent: 1\\n', 'P4: Entry Write id: 1 Percent: 1  Process 3\\n', 'P4: Exit Write id: 1 Percent: 1 Clock: 1\\n', 'UPdate from Process 3 for id: 1 percent: 1\\n', 'P2: Synch start 0\\n', 'P4: Entry Write id: 1 Percent: 1  Process 4\\n', 'P4: Exit Write id: 1 Percent: 1 Clock: 1\\n', 'UPdate from Process 4 for id: 1 percent: 1\\n', 'P4: Synch end 0\\n', 'P2: Entry Write id: 0 Percent: 1  Process 6\\n', 'P2: Exit Write id: 0 Percent: 1 Clock: 0\\n', 'UPdate from Process 6 for id: 0 percent: 1\\n', 'P6: Entry Read id: 5\\n', 'P6: Exit Read id: 5 Percent: 0 Clock: 0\\n', 'P2: Entry Write id: 1 Percent: 1  Process 3\\n', 'P2: Exit Write id: 1 Percent: 1 Clock: 1\\n', 'UPdate from Process 3 for id: 1 percent: 1\\n', 'P2: Entry Write id: 1 Percent: 1  Process 4\\n', 'P2: Exit Write id: 1 Percent: 1 Clock: 1\\n', 'UPdate from Process 4 for id: 1 percent: 1\\n', 'P3: Synch start 0\\n', 'P2: Entry Write id: 1 Percent: 1  Process 6\\n', 'P2: Exit Write id: 1 Percent: 1 Clock: 1\\n', 'UPdate from Process 6 for id: 1 percent: 1\\n', 'P2: Synch end 0\\n', 'P3: Entry Write id: 0 Percent: 1  Process 6\\n', 'P3: Exit Write id: 0 Percent: 1 Clock: 0\\n', 'UPdate from Process 6 for id: 0 percent: 1\\n', 'P3: Entry Write id: 1 Percent: 1  Process 4\\n', 'P3: Exit Write id: 1 Percent: 1 Clock: 1\\n', 'UPdate from Process 4 for id: 1 percent: 1\\n', 'P5: Synch start 0\\n', 'P3: Entry Write id: 1 Percent: 1  Process 3\\n', 'P3: Exit Write id: 1 Percent: 1 Clock: 1\\n', 'UPdate from Process 3 for id: 1 percent: 1\\n', 'P3: Synch end 0\\n', 'P5: Entry Write id: 0 Percent: 1  Process 6\\n', 'P5: Exit Write id: 0 Percent: 1 Clock: 0\\n', 'UPdate from Process 6 for id: 0 percent: 1\\n', 'P5: Entry Write id: 1 Percent: 1  Process 3\\n', 'P6: Synch start 0\\n', 'P5: Exit Write id: 1 Percent: 1 Clock: 1\\n', 'UPdate from Process 3 for id: 1 percent: 1\\n', 'P6: Entry Write id: 0 Percent: 1  Process 6\\n', 'P6: Exit Write id: 0 Percent: 1 Clock: 0\\n', 'P5: Entry Write id: 1 Percent: 1  Process 4\\n', 'UPdate from Process 6 for id: 0 percent: 1\\n', 'P5: Exit Write id: 1 Percent: 1 Clock: 1\\n', 'UPdate from Process 4 for id: 1 percent: 1\\n', 'P5: Synch end 0\\n', 'P6: Entry Write id: 1 Percent: 1  Process 3\\n', 'P6: Exit Write id: 1 Percent: 1 Clock: 1\\n', 'UPdate from Process 3 for id: 1 percent: 1\\n', 'P6: Entry Write id: 1 Percent: 1  Process 4\\n', 'P6: Exit Write id: 1 Percent: 1 Clock: 1\\n', 'UPdate from Process 4 for id: 1 percent: 1\\n', 'P6: Synch end 0\\n', 'P4: Entry Read id: 5\\n', 'P4: Exit Read id: 5 Percent: 0 Clock: 0\\n', 'P2: Entry Read id: 2\\n', 'P2: Exit Read id: 2 Percent: 0 Clock: 0\\n', 'P3: Entry Read id: 1\\n', 'P3: Exit Read id: 1 Percent: 1 Clock: 1\\n', 'P4: Synch start 0\\n', 'P4: Entry Write id: 1 Percent: 1  Process 6\\n', 'P4: Exit Write id: 1 Percent: 1 Clock: 1\\n', 'UPdate from Process 6 for id: 1 percent: 1\\n', 'P4: Entry Write id: 1 Percent: 1  Process 5\\n', 'P4: Exit Write id: 1 Percent: 1 Clock: 0\\n', 'UPdate from Process 5 for id: 1 percent: 1\\n', 'P4: Entry Write id: 2 Percent: 1  Process 3\\n', 'P4: Exit Write id: 2 Percent: 1 Clock: 2\\n', 'UPdate from Process 3 for id: 2 percent: 1\\n', 'P4: Synch end 0\\n', 'P3: Synch start 0\\n', 'P3: Entry Write id: 1 Percent: 1  Process 6\\n', 'P3: Exit Write id: 1 Percent: 1 Clock: 1\\n', 'UPdate from Process 6 for id: 1 percent: 1\\n', 'P3: Entry Write id: 1 Percent: 1  Process 5\\n', 'P3: Exit Write id: 1 Percent: 1 Clock: 0\\n', 'P6: Synch start 0\\n', 'UPdate from Process 5 for id: 1 percent: 1\\n', 'P6: Entry Write id: 1 Percent: 1  Process 6\\n', 'P3: Entry Write id: 2 Percent: 1  Process 3\\n', 'P6: Exit Write id: 1 Percent: 1 Clock: 1\\n', 'UPdate from Process 6 for id: 1 percent: 1\\n', 'P3: Exit Write id: 2 Percent: 1 Clock: 2\\n', 'UPdate from Process 3 for id: 2 percent: 1\\n', 'P3: Synch end 0\\n', 'P6: Entry Write id: 1 Percent: 1  Process 5\\n', 'P6: Exit Write id: 1 Percent: 1 Clock: 0\\n', 'UPdate from Process 5 for id: 1 percent: 1\\n', 'P2: Synch start 0\\n', 'P2: Entry Write id: 1 Percent: 1  Process 5\\n', 'P6: Entry Write id: 2 Percent: 1  Process 3\\n', 'P2: Exit Write id: 1 Percent: 1 Clock: 0\\n', 'UPdate from Process 5 for id: 1 percent: 1\\n', 'P6: Exit Write id: 2 Percent: 1 Clock: 2\\n', 'UPdate from Process 3 for id: 2 percent: 1\\n', 'P6: Synch end 0\\n', 'P2: Entry Write id: 2 Percent: 1  Process 4\\n', 'P2: Exit Write id: 2 Percent: 1 Clock: 2\\n', 'UPdate from Process 4 for id: 2 percent: 1\\n', 'P2: Entry Write id: 2 Percent: 1  Process 3\\n', 'P2: Exit Write id: 2 Percent: 1 Clock: 2\\n', 'UPdate from Process 3 for id: 2 percent: 1\\n', 'P2: Synch end 0\\n', 'P5: Synch start 0\\n', 'P5: Entry Write id: 1 Percent: 1  Process 6\\n', 'P5: Exit Write id: 1 Percent: 1 Clock: 1\\n', 'UPdate from Process 6 for id: 1 percent: 1\\n', 'P5: Entry Write id: 1 Percent: 1  Process 5\\n', 'P5: Exit Write id: 1 Percent: 1 Clock: 0\\n', 'UPdate from Process 5 for id: 1 percent: 1\\n', 'P5: Entry Write id: 2 Percent: 1  Process 4\\n', 'P5: Exit Write id: 2 Percent: 1 Clock: 2\\n', 'UPdate from Process 4 for id: 2 percent: 1\\n', 'P5: Synch end 0\\n', 'P4: Synch start 0\\n', 'P4: Entry Write id: 2 Percent: 1  Process 4\\n', 'P4: Exit Write id: 2 Percent: 1 Clock: 2\\n', 'UPdate from Process 4 for id: 2 percent: 1\\n', 'P4: Entry Write id: 2 Percent: 1  Process 2\\n', 'P4: Exit Write id: 2 Percent: 1 Clock: 0\\n', 'UPdate from Process 2 for id: 2 percent: 1\\n', 'P4: Entry Write id: 2 Percent: 1  Process 5\\n', 'P4: Exit Write id: 2 Percent: 1 Clock: 1\\n', 'UPdate from Process 5 for id: 2 percent: 1\\n', 'P4: Synch end 0\\n', 'P3: Entry Read id: 1\\n', 'P3: Exit Read id: 1 Percent: 1 Clock: 0\\n', 'P2: Entry Read id: 3\\n', 'P2: Exit Read id: 3 Percent: 0 Clock: 0\\n', 'P3: Synch start 0\\n', 'P3: Entry Write id: 2 Percent: 1  Process 4\\n', 'P3: Exit Write id: 2 Percent: 1 Clock: 2\\n', 'UPdate from Process 4 for id: 2 percent: 1\\n', 'P6: Synch start 0\\n', 'P3: Entry Write id: 2 Percent: 1  Process 2\\n', 'P5: Entry Read id: 0\\n', 'P6: Entry Write id: 2 Percent: 1  Process 4\\n', 'P5: Exit Read id: 0 Percent: 1 Clock: 0\\n', 'P3: Exit Write id: 2 Percent: 1 Clock: 0\\n', 'UPdate from Process 2 for id: 2 percent: 1\\n', 'P6: Exit Write id: 2 Percent: 1 Clock: 2\\n', 'UPdate from Process 4 for id: 2 percent: 1\\n', 'P3: Entry Write id: 2 Percent: 1  Process 5\\n', 'P6: Entry Write id: 2 Percent: 1  Process 2\\n', 'P3: Exit Write id: 2 Percent: 1 Clock: 1\\n', 'UPdate from Process 5 for id: 2 percent: 1\\n', 'P3: Synch end 0\\n', 'P6: Exit Write id: 2 Percent: 1 Clock: 0\\n', 'UPdate from Process 2 for id: 2 percent: 1\\n', 'P6: Entry Write id: 2 Percent: 1  Process 5\\n', 'P6: Exit Write id: 2 Percent: 1 Clock: 1\\n', 'UPdate from Process 5 for id: 2 percent: 1\\n', 'P6: Synch end 0\\n', 'P5: Synch start 0\\n', 'P2: Synch start 0\\n', 'P5: Entry Write id: 2 Percent: 1  Process 3\\n', 'P5: Exit Write id: 2 Percent: 1 Clock: 2\\n', 'UPdate from Process 3 for id: 2 percent: 1\\n', 'P2: Entry Write id: 2 Percent: 1  Process 2\\n', 'P2: Exit Write id: 2 Percent: 1 Clock: 0\\n', 'UPdate from Process 2 for id: 2 percent: 1\\n', 'P2: Entry Write id: 2 Percent: 1  Process 5\\n', 'P5: Entry Write id: 2 Percent: 1  Process 2\\n', 'P2: Exit Write id: 2 Percent: 1 Clock: 1\\n', 'UPdate from Process 5 for id: 2 percent: 1\\n', 'P5: Exit Write id: 2 Percent: 1 Clock: 0\\n', 'UPdate from Process 2 for id: 2 percent: 1\\n', 'P2: Entry Write id: 3 Percent: 1  Process 5\\n', 'P5: Entry Write id: 2 Percent: 1  Process 5\\n', 'P2: Exit Write id: 3 Percent: 1 Clock: 2\\n', 'UPdate from Process 5 for id: 3 percent: 1\\n', 'P2: Synch end 0\\n', 'P5: Exit Write id: 2 Percent: 1 Clock: 1\\n', 'UPdate from Process 5 for id: 2 percent: 1\\n', 'P5: Synch end 0\\n', 'P4: Entry Read id: 3\\n', 'P4: Exit Read id: 3 Percent: 0 Clock: 0\\n', 'P4: Synch start 0\\n', 'P4: Entry Write id: 3 Percent: 1  Process 5\\n', 'P4: Exit Write id: 3 Percent: 1 Clock: 2\\n', 'UPdate from Process 5 for id: 3 percent: 1\\n', 'P4: Entry Write id: 3 Percent: 1  Process 6\\n', 'P4: Exit Write id: 3 Percent: 1 Clock: 2\\n', 'UPdate from Process 6 for id: 3 percent: 1\\n', 'P4: Synch end 0\\n', 'P3: Synch start 0\\n', 'P3: Entry Write id: 3 Percent: 1  Process 5\\n', 'P3: Exit Write id: 3 Percent: 1 Clock: 2\\n', 'UPdate from Process 5 for id: 3 percent: 1\\n', 'P3: Entry Write id: 3 Percent: 1  Process 6\\n', 'P3: Exit Write id: 3 Percent: 1 Clock: 2\\n', 'UPdate from Process 6 for id: 3 percent: 1\\n', 'P3: Synch end 0\\n', 'P6: Synch start 0\\n', 'P2: Entry Read id: 2\\n', 'P2: Exit Read id: 2 Percent: 1 Clock: 1\\n', 'P6: Entry Write id: 3 Percent: 1  Process 5\\n', 'P6: Exit Write id: 3 Percent: 1 Clock: 2\\n', 'UPdate from Process 5 for id: 3 percent: 1\\n', 'P6: Entry Write id: 3 Percent: 1  Process 6\\n', 'P6: Exit Write id: 3 Percent: 1 Clock: 2\\n', 'UPdate from Process 6 for id: 3 percent: 1\\n', 'P6: Synch end 0\\n', 'P5: Synch start 0\\n', 'P5: Entry Write id: 3 Percent: 1  Process 5\\n', 'P5: Exit Write id: 3 Percent: 1 Clock: 2\\n', 'UPdate from Process 5 for id: 3 percent: 1\\n', 'P5: Entry Write id: 3 Percent: 1  Process 6\\n', 'P5: Exit Write id: 3 Percent: 1 Clock: 2\\n', 'UPdate from Process 6 for id: 3 percent: 1\\n', 'P5: Synch end 0\\n', 'P2: Synch start 0\\n', 'P2: Entry Write id: 3 Percent: 1  Process 6\\n', 'P2: Exit Write id: 3 Percent: 1 Clock: 2\\n', 'UPdate from Process 6 for id: 3 percent: 1\\n', 'P2: Entry Write id: 4 Percent: 1  Process 4\\n', 'P2: Exit Write id: 4 Percent: 1 Clock: 3\\n', 'UPdate from Process 4 for id: 4 percent: 1\\n', 'P2: Entry Write id: 4 Percent: 1  Process 6\\n', 'P2: Exit Write id: 4 Percent: 1 Clock: 3\\n', 'UPdate from Process 6 for id: 4 percent: 1\\n', 'P2: Synch end 0\\n', 'P4: Synch start 0\\n', 'P4: Entry Write id: 4 Percent: 1  Process 4\\n', 'P4: Exit Write id: 4 Percent: 1 Clock: 3\\n', 'UPdate from Process 4 for id: 4 percent: 1\\n', 'P4: Entry Write id: 4 Percent: 1  Process 6\\n', 'P4: Exit Write id: 4 Percent: 1 Clock: 3\\n', 'UPdate from Process 6 for id: 4 percent: 1\\n', 'P4: Entry Write id: 5 Percent: 1  Process 6\\n', 'P4: Exit Write id: 5 Percent: 1 Clock: 4\\n', 'UPdate from Process 6 for id: 5 percent: 1\\n', 'P4: Synch end 0\\n', 'P3: Entry Read id: 2\\n', 'P3: Exit Read id: 2 Percent: 1 Clock: 1\\n', 'P3: Synch start 0\\n', 'P3: Entry Write id: 4 Percent: 1  Process 4\\n', 'P6: Entry Read id: 5\\n', 'P6: Exit Read id: 5 Percent: 0 Clock: 0\\n', 'P3: Exit Write id: 4 Percent: 1 Clock: 3\\n', 'UPdate from Process 4 for id: 4 percent: 1\\n', 'P3: Entry Write id: 4 Percent: 1  Process 6\\n', 'P3: Exit Write id: 4 Percent: 1 Clock: 3\\n', 'UPdate from Process 6 for id: 4 percent: 1\\n', 'P3: Entry Write id: 5 Percent: 1  Process 3\\n', 'P3: Exit Write id: 5 Percent: 1 Clock: 3\\n', 'UPdate from Process 3 for id: 5 percent: 1\\n', 'P3: Synch end 0\\n', 'P5: Synch start 0\\n', 'P2: Entry Read id: 4\\n', 'P2: Exit Read id: 4 Percent: 1 Clock: 3\\n', 'P5: Entry Write id: 4 Percent: 1  Process 4\\n', 'P5: Exit Write id: 4 Percent: 1 Clock: 3\\n', 'UPdate from Process 4 for id: 4 percent: 1\\n', 'P5: Entry Write id: 4 Percent: 1  Process 6\\n', 'P5: Exit Write id: 4 Percent: 1 Clock: 3\\n', 'UPdate from Process 6 for id: 4 percent: 1\\n', 'P5: Entry Write id: 5 Percent: 1  Process 3\\n', 'P5: Exit Write id: 5 Percent: 1 Clock: 3\\n', 'UPdate from Process 3 for id: 5 percent: 1\\n', 'P5: Synch end 0\\n', 'P6: Synch start 0\\n', 'P6: Entry Write id: 4 Percent: 1  Process 4\\n', 'P6: Exit Write id: 4 Percent: 1 Clock: 3\\n', 'UPdate from Process 4 for id: 4 percent: 1\\n', 'P6: Entry Write id: 4 Percent: 1  Process 6\\n', 'P6: Exit Write id: 4 Percent: 1 Clock: 3\\n', 'UPdate from Process 6 for id: 4 percent: 1\\n', 'P6: Entry Write id: 5 Percent: 1  Process 3\\n', 'P6: Exit Write id: 5 Percent: 1 Clock: 3\\n', 'UPdate from Process 3 for id: 5 percent: 1\\n', 'P6: Synch end 0\\n', 'P2: Synch start 0\\n', 'P2: Entry Write id: 5 Percent: 1  Process 3\\n', 'P2: Exit Write id: 5 Percent: 1 Clock: 3\\n', 'UPdate from Process 3 for id: 5 percent: 1\\n', 'P2: Entry Write id: 5 Percent: 1  Process 6\\n', 'P2: Exit Write id: 5 Percent: 1 Clock: 4\\n', 'UPdate from Process 6 for id: 5 percent: 1\\n', 'P2: Entry Write id: 5 Percent: 1  Process 5\\n', 'P2: Exit Write id: 5 Percent: 1 Clock: 3\\n', 'UPdate from Process 5 for id: 5 percent: 1\\n', 'P2: Synch end 0\\n', 'P4: Synch start 0\\n', 'P4: Entry Write id: 5 Percent: 1  Process 3\\n', 'P4: Exit Write id: 5 Percent: 1 Clock: 3\\n', 'UPdate from Process 3 for id: 5 percent: 1\\n', 'P4: Entry Write id: 5 Percent: 1  Process 5\\n', 'P4: Exit Write id: 5 Percent: 1 Clock: 3\\n', 'UPdate from Process 5 for id: 5 percent: 1\\n', 'P4: Synch end 0\\n', 'P3: Synch start 0\\n', 'P3: Entry Write id: 5 Percent: 1  Process 6\\n', 'P3: Exit Write id: 5 Percent: 1 Clock: 4\\n', 'UPdate from Process 6 for id: 5 percent: 1\\n', 'P3: Entry Write id: 5 Percent: 1  Process 5\\n', 'P3: Exit Write id: 5 Percent: 1 Clock: 3\\n', 'UPdate from Process 5 for id: 5 percent: 1\\n', 'P3: Entry Write id: 6 Percent: 1  Process 4\\n', 'P3: Exit Write id: 6 Percent: 1 Clock: 4\\n', 'UPdate from Process 4 for id: 6 percent: 1\\n', 'P3: Synch end 0\\n', 'P5: Synch start 0\\n', 'P5: Entry Write id: 5 Percent: 1  Process 6\\n', 'P5: Exit Write id: 5 Percent: 1 Clock: 4\\n', 'UPdate from Process 6 for id: 5 percent: 1\\n', 'P5: Entry Write id: 5 Percent: 1  Process 5\\n', 'P5: Exit Write id: 5 Percent: 1 Clock: 3\\n', 'UPdate from Process 5 for id: 5 percent: 1\\n', 'P5: Entry Write id: 6 Percent: 1  Process 4\\n', 'P6: Synch start 0\\n', 'P5: Exit Write id: 6 Percent: 1 Clock: 4\\n', 'UPdate from Process 4 for id: 6 percent: 1\\n', 'P5: Synch end 0\\n', 'P6: Entry Write id: 5 Percent: 1  Process 6\\n', 'P6: Exit Write id: 5 Percent: 1 Clock: 4\\n', 'UPdate from Process 6 for id: 5 percent: 1\\n', 'P6: Entry Write id: 5 Percent: 1  Process 5\\n', 'P6: Exit Write id: 5 Percent: 1 Clock: 3\\n', 'UPdate from Process 5 for id: 5 percent: 1\\n', 'P6: Entry Write id: 6 Percent: 1  Process 4\\n', 'P6: Exit Write id: 6 Percent: 1 Clock: 4\\n', 'UPdate from Process 4 for id: 6 percent: 1\\n', 'P6: Synch end 0\\n', 'P2: Entry Read id: 4\\n', 'P2: Exit Read id: 4 Percent: 1 Clock: 3\\n', 'P2: Synch start 0\\n', 'P2: Entry Write id: 6 Percent: 1  Process 4\\n', 'P2: Exit Write id: 6 Percent: 1 Clock: 4\\n', 'UPdate from Process 4 for id: 6 percent: 1\\n', 'P2: Entry Write id: 6 Percent: 1  Process 5\\n', 'P2: Exit Write id: 6 Percent: 1 Clock: 4\\n', 'UPdate from Process 5 for id: 6 percent: 1\\n', 'P2: Entry Write id: 0 Percent: 6  Process 4\\n', 'P2: Exit Write id: 0 Percent: 6 Clock: 5\\n', 'UPdate from Process 4 for id: 0 percent: 6\\n', 'P2: Synch end 0\\n', 'P4: Synch start 0\\n', 'P4: Entry Write id: 6 Percent: 1  Process 4\\n', 'P4: Exit Write id: 6 Percent: 1 Clock: 4\\n', 'UPdate from Process 4 for id: 6 percent: 1\\n', 'P4: Entry Write id: 6 Percent: 1  Process 5\\n', 'P4: Exit Write id: 6 Percent: 1 Clock: 4\\n', 'UPdate from Process 5 for id: 6 percent: 1\\n', 'P4: Entry Write id: 0 Percent: 6  Process 4\\n', 'P4: Exit Write id: 0 Percent: 6 Clock: 5\\n', 'UPdate from Process 4 for id: 0 percent: 6\\n', 'P4: Synch end 0\\n', 'P3: Entry Read id: 2\\n', 'P3: Exit Read id: 2 Percent: 1 Clock: 1\\n', 'P3: Synch start 0\\n', 'P3: Entry Write id: 6 Percent: 1  Process 5\\n', 'P3: Exit Write id: 6 Percent: 1 Clock: 4\\n', 'UPdate from Process 5 for id: 6 percent: 1\\n', 'P3: Entry Write id: 0 Percent: 6  Process 4\\n', 'P3: Exit Write id: 0 Percent: 6 Clock: 5\\n', 'UPdate from Process 4 for id: 0 percent: 6\\n', 'P3: Entry Write id: 0 Percent: 6  Process 3\\n', 'P3: Exit Write id: 0 Percent: 6 Clock: 4\\n', 'UPdate from Process 3 for id: 0 percent: 6\\n', 'P3: Synch end 0\\n', 'P5: Synch start 0\\n', 'P5: Entry Write id: 6 Percent: 1  Process 5\\n', 'P5: Exit Write id: 6 Percent: 1 Clock: 4\\n', 'UPdate from Process 5 for id: 6 percent: 1\\n', 'P5: Entry Write id: 0 Percent: 6  Process 4\\n', 'P5: Exit Write id: 0 Percent: 6 Clock: 5\\n', 'UPdate from Process 4 for id: 0 percent: 6\\n', 'P5: Entry Write id: 0 Percent: 6  Process 3\\n', 'P5: Exit Write id: 0 Percent: 6 Clock: 4\\n', 'UPdate from Process 3 for id: 0 percent: 6\\n', 'P5: Synch end 0\\n', 'P6: Synch start 0\\n', 'P6: Entry Write id: 6 Percent: 1  Process 5\\n', 'P6: Exit Write id: 6 Percent: 1 Clock: 4\\n', 'UPdate from Process 5 for id: 6 percent: 1\\n', 'P6: Entry Write id: 0 Percent: 6  Process 4\\n', 'P6: Exit Write id: 0 Percent: 6 Clock: 5\\n', 'UPdate from Process 4 for id: 0 percent: 6\\n', 'P6: Entry Write id: 0 Percent: 6  Process 3\\n', 'P6: Exit Write id: 0 Percent: 6 Clock: 4\\n', 'UPdate from Process 3 for id: 0 percent: 6\\n', 'P6: Synch end 0\\n', 'P2: Synch start 0\\n', 'P2: Entry Write id: 0 Percent: 6  Process 3\\n', 'P2: Exit Write id: 0 Percent: 6 Clock: 4\\n', 'UPdate from Process 3 for id: 0 percent: 6\\n', 'P2: Entry Write id: 0 Percent: 6  Process 5\\n', 'P2: Exit Write id: 0 Percent: 6 Clock: 5\\n', 'UPdate from Process 5 for id: 0 percent: 6\\n', 'P2: Entry Write id: 0 Percent: 6  Process 6\\n', 'P2: Exit Write id: 0 Percent: 6 Clock: 5\\n', 'UPdate from Process 6 for id: 0 percent: 6\\n', 'P2: Synch end 0\\n', 'P3: Entry Read id: 2\\n', 'P3: Exit Read id: 2 Percent: 1 Clock: 1\\n', 'P4: Synch start 0\\n', 'P4: Entry Write id: 0 Percent: 6  Process 3\\n', 'P4: Exit Write id: 0 Percent: 6 Clock: 4\\n', 'UPdate from Process 3 for id: 0 percent: 6\\n', 'P4: Entry Write id: 0 Percent: 6  Process 6\\n', 'P4: Exit Write id: 0 Percent: 6 Clock: 5\\n', 'UPdate from Process 6 for id: 0 percent: 6\\n', 'P4: Entry Write id: 0 Percent: 6  Process 5\\n', 'P4: Exit Write id: 0 Percent: 6 Clock: 5\\n', 'UPdate from Process 5 for id: 0 percent: 6\\n', 'P3: Synch start 0\\n', 'P4: Entry Write id: 1 Percent: 6  Process 4\\n', 'P4: Exit Write id: 1 Percent: 6 Clock: 6\\n', 'UPdate from Process 4 for id: 1 percent: 6\\n', 'P4: Synch end 0\\n', 'P3: Entry Write id: 0 Percent: 6  Process 6\\n', 'P3: Exit Write id: 0 Percent: 6 Clock: 5\\n', 'UPdate from Process 6 for id: 0 percent: 6\\n', 'P3: Entry Write id: 0 Percent: 6  Process 5\\n', 'P3: Exit Write id: 0 Percent: 6 Clock: 5\\n', 'UPdate from Process 5 for id: 0 percent: 6\\n', 'P3: Entry Write id: 1 Percent: 6  Process 4\\n', 'P3: Exit Write id: 1 Percent: 6 Clock: 6\\n', 'UPdate from Process 4 for id: 1 percent: 6\\n', 'P3: Entry Write id: 1 Percent: 6  Process 6\\n', 'P3: Exit Write id: 1 Percent: 6 Clock: 6\\n', 'UPdate from Process 6 for id: 1 percent: 6\\n', 'P3: Synch end 0\\n', 'P5: Synch start 0\\n', 'P5: Entry Write id: 0 Percent: 6  Process 6\\n', 'P5: Exit Write id: 0 Percent: 6 Clock: 5\\n', 'UPdate from Process 6 for id: 0 percent: 6\\n', 'P5: Entry Write id: 0 Percent: 6  Process 5\\n', 'P5: Exit Write id: 0 Percent: 6 Clock: 5\\n', 'UPdate from Process 5 for id: 0 percent: 6\\n', 'P5: Entry Write id: 1 Percent: 6  Process 4\\n', 'P5: Exit Write id: 1 Percent: 6 Clock: 6\\n', 'UPdate from Process 4 for id: 1 percent: 6\\n', 'P6: Entry Read id: 3\\n', 'P6: Exit Read id: 3 Percent: 1 Clock: 2\\n', 'P5: Entry Write id: 1 Percent: 6  Process 6\\n', 'P5: Exit Write id: 1 Percent: 6 Clock: 6\\n', 'UPdate from Process 6 for id: 1 percent: 6\\n', 'P5: Synch end 0\\n', 'P6: Synch start 0\\n', 'P6: Entry Write id: 0 Percent: 6  Process 6\\n', 'P6: Exit Write id: 0 Percent: 6 Clock: 5\\n', 'UPdate from Process 6 for id: 0 percent: 6\\n', 'P6: Entry Write id: 0 Percent: 6  Process 5\\n', 'P6: Exit Write id: 0 Percent: 6 Clock: 5\\n', 'UPdate from Process 5 for id: 0 percent: 6\\n', 'P6: Entry Write id: 1 Percent: 6  Process 4\\n', 'P6: Exit Write id: 1 Percent: 6 Clock: 6\\n', 'UPdate from Process 4 for id: 1 percent: 6\\n', 'P6: Entry Write id: 1 Percent: 6  Process 6\\n', 'P6: Exit Write id: 1 Percent: 6 Clock: 6\\n', 'UPdate from Process 6 for id: 1 percent: 6\\n', 'P6: Synch end 0\\n', 'P2: Synch start 0\\n', 'P2: Entry Write id: 1 Percent: 6  Process 4\\n', 'P2: Exit Write id: 1 Percent: 6 Clock: 6\\n', 'UPdate from Process 4 for id: 1 percent: 6\\n', 'P2: Entry Write id: 1 Percent: 6  Process 6\\n', 'P2: Exit Write id: 1 Percent: 6 Clock: 6\\n', 'UPdate from Process 6 for id: 1 percent: 6\\n', 'P2: Entry Write id: 1 Percent: 6  Process 5\\n', 'P2: Exit Write id: 1 Percent: 6 Clock: 6\\n', 'UPdate from Process 5 for id: 1 percent: 6\\n', 'P2: Synch end 0\\n', 'P4: Synch start 0\\n', 'P4: Entry Write id: 1 Percent: 6  Process 5\\n', 'P4: Exit Write id: 1 Percent: 6 Clock: 6\\n', 'UPdate from Process 5 for id: 1 percent: 6\\n', 'P4: Entry Write id: 1 Percent: 6  Process 6\\n', 'P4: Exit Write id: 1 Percent: 6 Clock: 6\\n', 'UPdate from Process 6 for id: 1 percent: 6\\n', 'P4: Entry Write id: 1 Percent: 6  Process 2\\n', 'P4: Exit Write id: 1 Percent: 6 Clock: 1\\n', 'UPdate from Process 2 for id: 1 percent: 6\\n', 'P4: Synch end 0\\n', 'P5: Synch start 0\\n', 'P3: Synch start 0\\n', 'P5: Entry Write id: 1 Percent: 6  Process 5\\n', 'P3: Entry Write id: 1 Percent: 6  Process 5\\n', 'P5: Exit Write id: 1 Percent: 6 Clock: 6\\n', 'UPdate from Process 5 for id: 1 percent: 6\\n', 'P3: Exit Write id: 1 Percent: 6 Clock: 6\\n', 'UPdate from Process 5 for id: 1 percent: 6\\n', 'P5: Entry Write id: 1 Percent: 6  Process 2\\n', 'P3: Entry Write id: 1 Percent: 6  Process 2\\n', 'P5: Exit Write id: 1 Percent: 6 Clock: 1\\n', 'UPdate from Process 2 for id: 1 percent: 6\\n', 'P3: Exit Write id: 1 Percent: 6 Clock: 1\\n', 'UPdate from Process 2 for id: 1 percent: 6\\n', 'P5: Entry Write id: 2 Percent: 6  Process 4\\n', 'P3: Entry Write id: 2 Percent: 6  Process 4\\n', 'P3: Exit Write id: 2 Percent: 6 Clock: 7\\n', 'UPdate from Process 4 for id: 2 percent: 6\\n', 'P3: Synch end 0\\n', 'P5: Exit Write id: 2 Percent: 6 Clock: 7\\n', 'UPdate from Process 4 for id: 2 percent: 6\\n', 'P5: Synch end 0\\n', 'P6: Synch start 0\\n', 'P6: Entry Write id: 1 Percent: 6  Process 5\\n', 'P6: Exit Write id: 1 Percent: 6 Clock: 6\\n', 'UPdate from Process 5 for id: 1 percent: 6\\n', 'P6: Entry Write id: 1 Percent: 6  Process 2\\n', 'P6: Exit Write id: 1 Percent: 6 Clock: 1\\n', 'UPdate from Process 2 for id: 1 percent: 6\\n', 'P6: Entry Write id: 2 Percent: 6  Process 4\\n', 'P6: Exit Write id: 2 Percent: 6 Clock: 7\\n', 'UPdate from Process 4 for id: 2 percent: 6\\n', 'P6: Synch end 0\\n', 'P2: Synch start 0\\n', 'P2: Entry Write id: 1 Percent: 6  Process 2\\n', 'P2: Exit Write id: 1 Percent: 6 Clock: 1\\n', 'UPdate from Process 2 for id: 1 percent: 6\\n', 'P2: Entry Write id: 2 Percent: 6  Process 4\\n', 'P2: Exit Write id: 2 Percent: 6 Clock: 7\\n', 'UPdate from Process 4 for id: 2 percent: 6\\n', 'P2: Synch end 0\\n', 'P4: Synch start 0\\n', 'P4: Entry Write id: 2 Percent: 6  Process 4\\n', 'P4: Exit Write id: 2 Percent: 6 Clock: 7\\n', 'UPdate from Process 4 for id: 2 percent: 6\\n', 'P3: Synch start 0\\n', 'P4: Entry Write id: 2 Percent: 6  Process 5\\n', 'P3: Entry Write id: 2 Percent: 6  Process 5\\n', 'P4: Exit Write id: 2 Percent: 6 Clock: 7\\n', 'UPdate from Process 5 for id: 2 percent: 6\\n', 'P4: Synch end 0\\n', 'P3: Exit Write id: 2 Percent: 6 Clock: 7\\n', 'UPdate from Process 5 for id: 2 percent: 6\\n', 'P3: Synch end 0\\n', 'P5: Synch start 0\\n', 'P5: Entry Write id: 2 Percent: 6  Process 5\\n', 'P5: Exit Write id: 2 Percent: 6 Clock: 7\\n', 'UPdate from Process 5 for id: 2 percent: 6\\n', 'P5: Synch end 0\\n', 'P6: Synch start 0\\n', 'P6: Entry Write id: 2 Percent: 6  Process 5\\n', 'P6: Exit Write id: 2 Percent: 6 Clock: 7\\n', 'UPdate from Process 5 for id: 2 percent: 6\\n', 'P6: Synch end 0\\n', 'P2: Synch start 0\\n', 'P2: Entry Write id: 2 Percent: 6  Process 5\\n', 'P2: Exit Write id: 2 Percent: 6 Clock: 7\\n', 'UPdate from Process 5 for id: 2 percent: 6\\n', 'P2: Synch end 0\\n', 'P4: Synch start 0\\n', 'P4: Entry Write id: 2 Percent: 6  Process 2\\n', 'P4: Exit Write id: 2 Percent: 6 Clock: 2\\n', 'UPdate from Process 2 for id: 2 percent: 6\\n', 'P4: Synch end 0\\n', 'P3: Synch start 0\\n', 'P3: Entry Write id: 2 Percent: 6  Process 2\\n', 'P3: Exit Write id: 2 Percent: 6 Clock: 2\\n', 'UPdate from Process 2 for id: 2 percent: 6\\n', 'P3: Synch end 0\\n', 'P5: Synch start 0\\n', 'P5: Entry Write id: 2 Percent: 6  Process 2\\n', 'P5: Exit Write id: 2 Percent: 6 Clock: 2\\n', 'UPdate from Process 2 for id: 2 percent: 6\\n', 'P5: Synch end 0\\n', 'P6: Synch start 0\\n', 'P6: Entry Write id: 2 Percent: 6  Process 2\\n', 'P6: Exit Write id: 2 Percent: 6 Clock: 2\\n', 'UPdate from Process 2 for id: 2 percent: 6\\n', 'P6: Synch end 0\\n', 'P2: Synch start 0\\n', 'P2: Entry Write id: 2 Percent: 6  Process 2\\n', 'P2: Exit Write id: 2 Percent: 6 Clock: 2\\n', 'UPdate from Process 2 for id: 2 percent: 6\\n', 'P2: Synch end 0\\n']\n"
     ]
    }
   ],
   "source": [
    "print(list1)\n"
   ]
  },
  {
   "cell_type": "code",
   "execution_count": 161,
   "metadata": {},
   "outputs": [],
   "source": [
    "list2 = []\n",
    "list3 = []\n",
    "list4 =[]\n",
    "list5 = []\n",
    "list6 =[]"
   ]
  },
  {
   "cell_type": "code",
   "execution_count": 162,
   "metadata": {},
   "outputs": [],
   "source": [
    "list2.clear()\n",
    "list3.clear()\n",
    "list4.clear()\n",
    "list5.clear()\n",
    "list6.clear()\n"
   ]
  },
  {
   "cell_type": "code",
   "execution_count": 163,
   "metadata": {},
   "outputs": [],
   "source": [
    "for i in list1:\n",
    "    if(i[1]=='2'):\n",
    "        \n",
    "        list2.append(i)\n",
    "        \n",
    "for i in list1:\n",
    "    if(i[1]=='3'):\n",
    "        list3.append(i)\n",
    "for i in list1:\n",
    "    if(i[1]=='4'):\n",
    "        list4.append(i)\n",
    "for i in list1:\n",
    "    if(i[1]=='5'):\n",
    "        list5.append(i)\n",
    "for i in list1:\n",
    "    if(i[1]=='6'):\n",
    "        list6.append(i)"
   ]
  },
  {
   "cell_type": "code",
   "execution_count": 164,
   "metadata": {},
   "outputs": [],
   "source": [
    "l2 = []\n",
    "l3 = []\n",
    "l4 = []\n",
    "l5 = []\n",
    "l6 = []\n",
    "\n",
    "l2.clear()\n",
    "l3.clear()\n",
    "l4.clear()\n",
    "l5.clear()\n",
    "l6.clear()"
   ]
  },
  {
   "cell_type": "code",
   "execution_count": 165,
   "metadata": {},
   "outputs": [],
   "source": [
    "for i in range(0,len(list2)):\n",
    "    l2.append(list2[i].split(\" \"))\n",
    "for i in range(0,len(list3)):\n",
    "    l3.append(list3[i].split(\" \"))\n",
    "for i in range(0,len(list4)):\n",
    "    l4.append(list4[i].split(\" \"))\n",
    "for i in range(0,len(list5)):\n",
    "    l5.append(list5[i].split(\" \"))\n",
    "for i in range(0,len(list6)):\n",
    "    l6.append(list6[i].split(\" \"))    "
   ]
  },
  {
   "cell_type": "code",
   "execution_count": 189,
   "metadata": {},
   "outputs": [],
   "source": [
    "lwrite2 = []\n",
    "lwrite3 = []\n",
    "lwrite4 = []\n",
    "lwrite5 = []\n",
    "lwrite6 = []\n",
    "\n",
    "lwrite2.clear()\n",
    "lwrite3.clear()\n",
    "lwrite4.clear()\n",
    "lwrite5.clear()\n",
    "lwrite6.clear()\n"
   ]
  },
  {
   "cell_type": "code",
   "execution_count": 190,
   "metadata": {},
   "outputs": [],
   "source": [
    "for i in range(0,len(l2)):\n",
    "    if l2[i][2]==\"Write\" and l2[i][1]==\"Entry\":\n",
    "        lwrite2.append(l2[i][0]+\"write id\" + l2[i][4])\n",
    "        lwrite2.append(\"from P \" +l2[i][9][0])\n",
    "for i in range(0,len(l3)):\n",
    "    if l3[i][2]==\"Write\" and l3[i][1]==\"Entry\":\n",
    "        lwrite3.append(l3[i][0]+\"write id\" + l3[i][4])\n",
    "        lwrite3.append(\"from P \" +l3[i][9][0])\n",
    "for i in range(0,len(l4)):\n",
    "    if l4[i][2]==\"Write\" and l4[i][1]==\"Entry\":\n",
    "        lwrite4.append(l4[i][0]+\"write id\" + l4[i][4])\n",
    "        lwrite4.append(\"from P \" +l4[i][9][0])\n",
    "for i in range(0,len(l5)):\n",
    "    if l5[i][2]==\"Write\" and l5[i][1]==\"Entry\":\n",
    "        lwrite5.append(l5[i][0]+\"write id\" + l5[i][4])\n",
    "        lwrite5.append(\"from P \" +l5[i][9][0])\n",
    "for i in range(0,len(l6)):\n",
    "    if l6[i][2]==\"Write\" and l6[i][1]==\"Entry\":\n",
    "        lwrite6.append(l6[i][0]+\"write id\" + l6[i][4])\n",
    "        lwrite6.append(\"from P \" +l6[i][9][0])"
   ]
  },
  {
   "cell_type": "code",
   "execution_count": 191,
   "metadata": {
    "scrolled": true
   },
   "outputs": [
    {
     "name": "stdout",
     "output_type": "stream",
     "text": [
      "P2:write id0|from P 3|P3:write id0|from P 4|P4:write id0|from P 3|P5:write id0|from P 3|P6:write id0|from P 3\n",
      "P2:write id0|from P 4|P3:write id0|from P 3|P4:write id0|from P 4|P5:write id0|from P 4|P6:write id0|from P 4\n",
      "P2:write id0|from P 6|P3:write id0|from P 6|P4:write id0|from P 6|P5:write id0|from P 6|P6:write id0|from P 6\n",
      "P2:write id1|from P 3|P3:write id1|from P 4|P4:write id1|from P 3|P5:write id1|from P 3|P6:write id1|from P 3\n",
      "P2:write id1|from P 4|P3:write id1|from P 3|P4:write id1|from P 4|P5:write id1|from P 4|P6:write id1|from P 4\n",
      "P2:write id1|from P 6|P3:write id1|from P 6|P4:write id1|from P 6|P5:write id1|from P 6|P6:write id1|from P 6\n",
      "P2:write id1|from P 5|P3:write id1|from P 5|P4:write id1|from P 5|P5:write id1|from P 5|P6:write id1|from P 5\n",
      "P2:write id2|from P 4|P3:write id2|from P 3|P4:write id2|from P 3|P5:write id2|from P 4|P6:write id2|from P 3\n",
      "P2:write id2|from P 3|P3:write id2|from P 4|P4:write id2|from P 4|P5:write id2|from P 3|P6:write id2|from P 4\n",
      "P2:write id2|from P 2|P3:write id2|from P 2|P4:write id2|from P 2|P5:write id2|from P 2|P6:write id2|from P 2\n",
      "P2:write id2|from P 5|P3:write id2|from P 5|P4:write id2|from P 5|P5:write id2|from P 5|P6:write id2|from P 5\n",
      "P2:write id3|from P 5|P3:write id3|from P 5|P4:write id3|from P 5|P5:write id3|from P 5|P6:write id3|from P 5\n",
      "P2:write id3|from P 6|P3:write id3|from P 6|P4:write id3|from P 6|P5:write id3|from P 6|P6:write id3|from P 6\n",
      "P2:write id4|from P 4|P3:write id4|from P 4|P4:write id4|from P 4|P5:write id4|from P 4|P6:write id4|from P 4\n",
      "P2:write id4|from P 6|P3:write id4|from P 6|P4:write id4|from P 6|P5:write id4|from P 6|P6:write id4|from P 6\n",
      "P2:write id5|from P 3|P3:write id5|from P 3|P4:write id5|from P 6|P5:write id5|from P 3|P6:write id5|from P 3\n",
      "P2:write id5|from P 6|P3:write id5|from P 6|P4:write id5|from P 3|P5:write id5|from P 6|P6:write id5|from P 6\n",
      "P2:write id5|from P 5|P3:write id5|from P 5|P4:write id5|from P 5|P5:write id5|from P 5|P6:write id5|from P 5\n",
      "P2:write id6|from P 4|P3:write id6|from P 4|P4:write id6|from P 4|P5:write id6|from P 4|P6:write id6|from P 4\n",
      "P2:write id6|from P 5|P3:write id6|from P 5|P4:write id6|from P 5|P5:write id6|from P 5|P6:write id6|from P 5\n",
      "P2:write id0|from P 4|P3:write id0|from P 4|P4:write id0|from P 4|P5:write id0|from P 4|P6:write id0|from P 4\n",
      "P2:write id0|from P 3|P3:write id0|from P 3|P4:write id0|from P 3|P5:write id0|from P 3|P6:write id0|from P 3\n",
      "P2:write id0|from P 5|P3:write id0|from P 6|P4:write id0|from P 6|P5:write id0|from P 6|P6:write id0|from P 6\n",
      "P2:write id0|from P 6|P3:write id0|from P 5|P4:write id0|from P 5|P5:write id0|from P 5|P6:write id0|from P 5\n",
      "P2:write id1|from P 4|P3:write id1|from P 4|P4:write id1|from P 4|P5:write id1|from P 4|P6:write id1|from P 4\n",
      "P2:write id1|from P 6|P3:write id1|from P 6|P4:write id1|from P 5|P5:write id1|from P 6|P6:write id1|from P 6\n",
      "P2:write id1|from P 5|P3:write id1|from P 5|P4:write id1|from P 6|P5:write id1|from P 5|P6:write id1|from P 5\n",
      "P2:write id1|from P 2|P3:write id1|from P 2|P4:write id1|from P 2|P5:write id1|from P 2|P6:write id1|from P 2\n",
      "P2:write id2|from P 4|P3:write id2|from P 4|P4:write id2|from P 4|P5:write id2|from P 4|P6:write id2|from P 4\n",
      "P2:write id2|from P 5|P3:write id2|from P 5|P4:write id2|from P 5|P5:write id2|from P 5|P6:write id2|from P 5\n",
      "P2:write id2|from P 2|P3:write id2|from P 2|P4:write id2|from P 2|P5:write id2|from P 2|P6:write id2|from P 2\n"
     ]
    }
   ],
   "source": [
    "for i in range(1,len(lwrite2),2):\n",
    "    print(lwrite2[i-1],lwrite2[i],lwrite3[i-1],lwrite3[i],lwrite4[i-1],lwrite4[i],lwrite5[i-1],lwrite5[i],lwrite6[i-1],lwrite6[i], sep='|')\n"
   ]
  },
  {
   "cell_type": "code",
   "execution_count": 130,
   "metadata": {},
   "outputs": [
    {
     "ename": "ValueError",
     "evalue": "too many values to unpack (expected 2)",
     "output_type": "error",
     "traceback": [
      "\u001b[0;31m---------------------------------------------------------------------------\u001b[0m",
      "\u001b[0;31mValueError\u001b[0m                                Traceback (most recent call last)",
      "\u001b[0;32m<ipython-input-130-b72b69d9b59a>\u001b[0m in \u001b[0;36m<module>\u001b[0;34m\u001b[0m\n\u001b[0;32m----> 1\u001b[0;31m \u001b[0;32mfor\u001b[0m \u001b[0mi\u001b[0m\u001b[0;34m,\u001b[0m\u001b[0mj\u001b[0m \u001b[0;32min\u001b[0m \u001b[0mlwrite2\u001b[0m\u001b[0;34m,\u001b[0m\u001b[0mlwrite3\u001b[0m\u001b[0;34m:\u001b[0m\u001b[0;34m\u001b[0m\u001b[0;34m\u001b[0m\u001b[0m\n\u001b[0m\u001b[1;32m      2\u001b[0m     \u001b[0mprint\u001b[0m\u001b[0;34m(\u001b[0m\u001b[0mi\u001b[0m\u001b[0;34m,\u001b[0m\u001b[0mj\u001b[0m\u001b[0;34m)\u001b[0m\u001b[0;34m\u001b[0m\u001b[0;34m\u001b[0m\u001b[0m\n",
      "\u001b[0;31mValueError\u001b[0m: too many values to unpack (expected 2)"
     ]
    }
   ],
   "source": []
  },
  {
   "cell_type": "code",
   "execution_count": null,
   "metadata": {},
   "outputs": [],
   "source": []
  }
 ],
 "metadata": {
  "kernelspec": {
   "display_name": "Python 3",
   "language": "python",
   "name": "python3"
  },
  "language_info": {
   "codemirror_mode": {
    "name": "ipython",
    "version": 3
   },
   "file_extension": ".py",
   "mimetype": "text/x-python",
   "name": "python",
   "nbconvert_exporter": "python",
   "pygments_lexer": "ipython3",
   "version": "3.6.9"
  }
 },
 "nbformat": 4,
 "nbformat_minor": 2
}
